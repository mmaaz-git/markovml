{
 "cells": [
  {
   "cell_type": "code",
   "execution_count": 2,
   "metadata": {},
   "outputs": [],
   "source": [
    "# to be able to import package\n",
    "import sys; sys.path.append(\"../\")"
   ]
  },
  {
   "cell_type": "code",
   "execution_count": 4,
   "metadata": {},
   "outputs": [],
   "source": [
    "import gurobipy as gp\n",
    "from gurobipy import GRB\n",
    "import numpy as np\n",
    "from sklearn.linear_model import LogisticRegression\n",
    "from markovml.markovml import MarkovReward\n",
    "from markovml.utils.models_ext import DecisionRules\n"
   ]
  },
  {
   "cell_type": "markdown",
   "metadata": {},
   "source": [
    "## A simple Markov reward process\n",
    "Two states: alive and dead"
   ]
  },
  {
   "cell_type": "code",
   "execution_count": 5,
   "metadata": {},
   "outputs": [
    {
     "name": "stdout",
     "output_type": "stream",
     "text": [
      "Restricted license - for non-production use only - expires 2026-11-23\n"
     ]
    }
   ],
   "source": [
    "mrp = MarkovReward(n_states=2, n_features=2)"
   ]
  },
  {
   "cell_type": "markdown",
   "metadata": {},
   "source": [
    "Adding an ML model to predict mortality (prob of 1 -> 2)"
   ]
  },
  {
   "cell_type": "code",
   "execution_count": 6,
   "metadata": {},
   "outputs": [],
   "source": [
    "# random data\n",
    "X = np.random.rand(10000, 2)  # 2 features\n",
    "y = np.random.randint(0, 2, 10000)  # 0 or 1\n",
    "\n",
    "# fit a logistic regression model\n",
    "model = LogisticRegression().fit(X, y)\n",
    "\n",
    "# add the model to the mrp\n",
    "mrp.add_ml_model(model)"
   ]
  },
  {
   "cell_type": "markdown",
   "metadata": {},
   "source": [
    "Setting the parameters of the Markov process"
   ]
  },
  {
   "cell_type": "code",
   "execution_count": 7,
   "metadata": {},
   "outputs": [],
   "source": [
    "mrp.set_pi([1, 0]) # everyone starts alive\n",
    "mrp.set_P([[1 - mrp.ml_outputs[0][0], mrp.ml_outputs[0][0]], [0, 1]]) # linked to ML\n",
    "mrp.set_r([1, 0]) # reward is 1 if alive, 0 if dead"
   ]
  },
  {
   "cell_type": "markdown",
   "metadata": {},
   "source": [
    "Add constraint: mortality at least 0.1"
   ]
  },
  {
   "cell_type": "code",
   "execution_count": 8,
   "metadata": {},
   "outputs": [],
   "source": [
    "mrp.add_constraint(mrp.P[0, 1] >= 0.1)"
   ]
  },
  {
   "cell_type": "markdown",
   "metadata": {},
   "source": [
    "Optimize!"
   ]
  },
  {
   "cell_type": "code",
   "execution_count": 9,
   "metadata": {},
   "outputs": [
    {
     "data": {
      "text/plain": [
       "{'status': 'optimal',\n",
       " 'objective': 1.0,\n",
       " 'values': {'pi': [1.0, 0.0],\n",
       "  'P': [[-0.0, 1.0], [0.0, 1.0]],\n",
       "  'r': [1.0, 0.0],\n",
       "  'v': [1.0, -0.0],\n",
       "  'features': [0.0, 1.5803794978243257],\n",
       "  'ml_outputs': [[1.0]]}}"
      ]
     },
     "execution_count": 9,
     "metadata": {},
     "output_type": "execute_result"
    }
   ],
   "source": [
    "mrp.optimize(sense=\"max\")"
   ]
  },
  {
   "cell_type": "markdown",
   "metadata": {},
   "source": [
    "## Markov reward process with `Decision Rules`\n"
   ]
  },
  {
   "cell_type": "code",
   "execution_count": 10,
   "metadata": {},
   "outputs": [],
   "source": [
    "mrp = MarkovReward(n_states=2, n_features=2, pi=[1, 0], r=[1, 0])"
   ]
  },
  {
   "cell_type": "markdown",
   "metadata": {},
   "source": [
    "Simple decision rules: age and sex predict mortality"
   ]
  },
  {
   "cell_type": "code",
   "execution_count": null,
   "metadata": {},
   "outputs": [],
   "source": []
  },
  {
   "cell_type": "code",
   "execution_count": 11,
   "metadata": {},
   "outputs": [
    {
     "data": {
      "text/plain": [
       "<markovml.utils.models_ext.DecisionRules at 0x176b44a50>"
      ]
     },
     "execution_count": 11,
     "metadata": {},
     "output_type": "execute_result"
    }
   ],
   "source": [
    "dr = DecisionRules(features=['sex', 'age'])\n",
    "dr.fit([\n",
    "    \"if sex == 0 and age < 18 then 0.2\",\n",
    "    \"if sex == 1 and age < 18 then 0.1\",\n",
    "    \"if sex == 0 and age >= 18 then 0.1\",\n",
    "    \"if sex == 1 and age >= 18 then 0.2\",\n",
    "    \"else 0.0\"\n",
    "])"
   ]
  },
  {
   "cell_type": "code",
   "execution_count": 12,
   "metadata": {},
   "outputs": [],
   "source": [
    "mrp.add_ml_model(dr)\n",
    "mrp.set_P([[1 - mrp.ml_outputs[0][0], mrp.ml_outputs[0][0]], [0, 1]])\n",
    "mrp.add_feature_constraint(mrp.features[1] >= 65) # age >= 65"
   ]
  },
  {
   "cell_type": "markdown",
   "metadata": {},
   "source": [
    "Optimize!"
   ]
  },
  {
   "cell_type": "code",
   "execution_count": 13,
   "metadata": {},
   "outputs": [
    {
     "data": {
      "text/plain": [
       "{'status': 'optimal',\n",
       " 'objective': 4.464285714285713,\n",
       " 'values': {'pi': [1.0, -0.0],\n",
       "  'P': [[0.8, 0.2], [-0.0, 1.0]],\n",
       "  'r': [1.0, -0.0],\n",
       "  'v': [4.464285714285714, -0.0],\n",
       "  'features': [0.0, 65.0],\n",
       "  'ml_outputs': [[0.2]]}}"
      ]
     },
     "execution_count": 13,
     "metadata": {},
     "output_type": "execute_result"
    }
   ],
   "source": [
    "mrp.optimize(sense=\"min\")"
   ]
  }
 ],
 "metadata": {
  "kernelspec": {
   "display_name": "Python 3",
   "language": "python",
   "name": "python3"
  },
  "language_info": {
   "codemirror_mode": {
    "name": "ipython",
    "version": 3
   },
   "file_extension": ".py",
   "mimetype": "text/x-python",
   "name": "python",
   "nbconvert_exporter": "python",
   "pygments_lexer": "ipython3",
   "version": "3.11.9"
  }
 },
 "nbformat": 4,
 "nbformat_minor": 2
}
